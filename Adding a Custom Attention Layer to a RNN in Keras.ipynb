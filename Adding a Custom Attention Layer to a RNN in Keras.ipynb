{
 "cells": [
  {
   "cell_type": "markdown",
   "id": "ea5ee2d0",
   "metadata": {},
   "source": [
    "# Import"
   ]
  },
  {
   "cell_type": "code",
   "execution_count": 1,
   "id": "87986614",
   "metadata": {},
   "outputs": [],
   "source": [
    "from pandas import read_csv\n",
    "import numpy as np\n",
    "from keras import Model\n",
    "from keras.layers import Layer\n",
    "import keras.backend as K\n",
    "from keras.layers import Input, Dense, SimpleRNN\n",
    "from sklearn.preprocessing import MinMaxScaler\n",
    "from keras.models import Sequential\n",
    "from keras.metrics import mean_squared_error"
   ]
  },
  {
   "cell_type": "markdown",
   "id": "e59d77d0",
   "metadata": {},
   "source": [
    "# Prepare Datasets"
   ]
  },
  {
   "cell_type": "code",
   "execution_count": 2,
   "id": "8cd1a7d1",
   "metadata": {},
   "outputs": [
    {
     "name": "stdout",
     "output_type": "stream",
     "text": [
      "[ 1.  2.  3.  5.  8. 13. 21. 34. 55. 89.]\n"
     ]
    }
   ],
   "source": [
    "def get_fib_seq(n, scale_data=True):\n",
    "    # Get the Fibonacci sequence\n",
    "    seq = np.zeros(n)\n",
    "    fib_n1 = 0.0\n",
    "    fib_n = 1.0 \n",
    "    for i in range(n):\n",
    "            seq[i] = fib_n1 + fib_n\n",
    "            fib_n1 = fib_n\n",
    "            fib_n = seq[i] \n",
    "    scaler = []\n",
    "    if scale_data:\n",
    "        scaler = MinMaxScaler(feature_range=(0, 1))\n",
    "        seq = np.reshape(seq, (n, 1))\n",
    "        seq = scaler.fit_transform(seq).flatten()        \n",
    "    return seq, scaler\n",
    " \n",
    "fib_seq = get_fib_seq(10, False)[0]\n",
    "print(fib_seq)"
   ]
  },
  {
   "cell_type": "code",
   "execution_count": 3,
   "id": "df1fbcf5",
   "metadata": {},
   "outputs": [
    {
     "name": "stdout",
     "output_type": "stream",
     "text": [
      "trainX =  [[[ 8.]\n",
      "  [13.]\n",
      "  [21.]]\n",
      "\n",
      " [[ 5.]\n",
      "  [ 8.]\n",
      "  [13.]]\n",
      "\n",
      " [[ 2.]\n",
      "  [ 3.]\n",
      "  [ 5.]]\n",
      "\n",
      " [[13.]\n",
      "  [21.]\n",
      "  [34.]]\n",
      "\n",
      " [[21.]\n",
      "  [34.]\n",
      "  [55.]]\n",
      "\n",
      " [[34.]\n",
      "  [55.]\n",
      "  [89.]]]\n",
      "trainY =  [ 34.  21.   8.  55.  89. 144.]\n"
     ]
    }
   ],
   "source": [
    "def get_fib_XY(total_fib_numbers, time_steps, train_percent, scale_data=True):\n",
    "    dat, scaler = get_fib_seq(total_fib_numbers, scale_data)    \n",
    "    Y_ind = np.arange(time_steps, len(dat), 1)\n",
    "    Y = dat[Y_ind]\n",
    "    rows_x = len(Y)\n",
    "    X = dat[0:rows_x]\n",
    "    for i in range(time_steps-1):\n",
    "        temp = dat[i+1:rows_x+i+1]\n",
    "        X = np.column_stack((X, temp))\n",
    "    # random permutation with fixed seed   \n",
    "    rand = np.random.RandomState(seed=13)\n",
    "    idx = rand.permutation(rows_x)\n",
    "    split = int(train_percent*rows_x)\n",
    "    train_ind = idx[0:split]\n",
    "    test_ind = idx[split:]\n",
    "    trainX = X[train_ind]\n",
    "    trainY = Y[train_ind]\n",
    "    testX = X[test_ind]\n",
    "    testY = Y[test_ind]\n",
    "    trainX = np.reshape(trainX, (len(trainX), time_steps, 1))    \n",
    "    testX = np.reshape(testX, (len(testX), time_steps, 1))\n",
    "    return trainX, trainY, testX, testY, scaler\n",
    " \n",
    "trainX, trainY, testX, testY, scaler = get_fib_XY(12, 3, 0.7, False)\n",
    "print('trainX = ', trainX)\n",
    "print('trainY = ', trainY)"
   ]
  },
  {
   "cell_type": "markdown",
   "id": "2887a1a4",
   "metadata": {},
   "source": [
    "# Setting up the Network"
   ]
  },
  {
   "cell_type": "code",
   "execution_count": 10,
   "id": "2298f8e9",
   "metadata": {},
   "outputs": [
    {
     "name": "stdout",
     "output_type": "stream",
     "text": [
      "Model: \"sequential_1\"\n",
      "_________________________________________________________________\n",
      " Layer (type)                Output Shape              Param #   \n",
      "=================================================================\n",
      " simple_rnn_2 (SimpleRNN)    (None, 2)                 8         \n",
      "                                                                 \n",
      " dense_2 (Dense)             (None, 1)                 3         \n",
      "                                                                 \n",
      "=================================================================\n",
      "Total params: 11 (44.00 Byte)\n",
      "Trainable params: 11 (44.00 Byte)\n",
      "Non-trainable params: 0 (0.00 Byte)\n",
      "_________________________________________________________________\n"
     ]
    }
   ],
   "source": [
    "# Set up parameters\n",
    "time_steps = 20\n",
    "hidden_units = 2\n",
    "epochs = 10\n",
    " \n",
    "# Create a traditional RNN network\n",
    "def create_RNN(hidden_units, dense_units, input_shape, activation):\n",
    "    model = Sequential()\n",
    "    model.add(SimpleRNN(hidden_units, input_shape=input_shape, activation=activation[0]))\n",
    "    model.add(Dense(units=dense_units, activation=activation[1]))\n",
    "    model.compile(loss='mse', optimizer='adam')\n",
    "    return model\n",
    " \n",
    "model_RNN = create_RNN(hidden_units=hidden_units, dense_units=1, input_shape=(time_steps,1), \n",
    "                   activation=['tanh', 'tanh'])\n",
    "model_RNN.summary()"
   ]
  },
  {
   "cell_type": "code",
   "execution_count": 11,
   "id": "9ea5441d",
   "metadata": {},
   "outputs": [
    {
     "name": "stdout",
     "output_type": "stream",
     "text": [
      "Epoch 1/10\n",
      "826/826 - 7s - loss: 0.0024 - 7s/epoch - 8ms/step\n",
      "Epoch 2/10\n",
      "826/826 - 5s - loss: 0.0021 - 5s/epoch - 6ms/step\n",
      "Epoch 3/10\n",
      "826/826 - 5s - loss: 0.0019 - 5s/epoch - 6ms/step\n",
      "Epoch 4/10\n",
      "826/826 - 5s - loss: 0.0017 - 5s/epoch - 6ms/step\n",
      "Epoch 5/10\n",
      "826/826 - 5s - loss: 0.0015 - 5s/epoch - 6ms/step\n",
      "Epoch 6/10\n",
      "826/826 - 5s - loss: 0.0013 - 5s/epoch - 6ms/step\n",
      "Epoch 7/10\n",
      "826/826 - 5s - loss: 0.0012 - 5s/epoch - 6ms/step\n",
      "Epoch 8/10\n",
      "826/826 - 5s - loss: 0.0010 - 5s/epoch - 6ms/step\n",
      "Epoch 9/10\n",
      "826/826 - 5s - loss: 9.0143e-04 - 5s/epoch - 6ms/step\n",
      "Epoch 10/10\n",
      "826/826 - 5s - loss: 8.0734e-04 - 5s/epoch - 6ms/step\n",
      "26/26 [==============================] - 0s 4ms/step - loss: 6.9578e-04\n",
      "12/12 [==============================] - 0s 4ms/step - loss: 5.9310e-04\n",
      "Train set MSE =  0.0006957798614166677\n",
      "Test set MSE =  0.0005930991610512137\n"
     ]
    }
   ],
   "source": [
    "\n",
    "# Generate the dataset\n",
    "trainX, trainY, testX, testY, scaler  = get_fib_XY(1200, time_steps, 0.7)\n",
    " \n",
    "model_RNN.fit(trainX, trainY, epochs=epochs, batch_size=1, verbose=2)\n",
    " \n",
    " \n",
    "# Evalute model\n",
    "train_mse = model_RNN.evaluate(trainX, trainY)\n",
    "test_mse = model_RNN.evaluate(testX, testY)\n",
    " \n",
    "# Print error\n",
    "print(\"Train set MSE = \", train_mse)\n",
    "print(\"Test set MSE = \", test_mse)"
   ]
  },
  {
   "cell_type": "markdown",
   "id": "d054be41",
   "metadata": {},
   "source": [
    "# Adding a Custom Attention Layer to the Network"
   ]
  },
  {
   "cell_type": "code",
   "execution_count": 12,
   "id": "f183c0df",
   "metadata": {},
   "outputs": [],
   "source": [
    "# Add attention layer to the deep learning network\n",
    "class attention(Layer):\n",
    "    def __init__(self,**kwargs):\n",
    "        super(attention,self).__init__(**kwargs)\n",
    " \n",
    "    def build(self,input_shape):\n",
    "        self.W=self.add_weight(name='attention_weight', shape=(input_shape[-1],1), \n",
    "                               initializer='random_normal', trainable=True)\n",
    "        self.b=self.add_weight(name='attention_bias', shape=(input_shape[1],1), \n",
    "                               initializer='zeros', trainable=True)        \n",
    "        super(attention, self).build(input_shape)\n",
    " \n",
    "    def call(self,x):\n",
    "        # Alignment scores. Pass them through tanh function\n",
    "        e = K.tanh(K.dot(x,self.W)+self.b)\n",
    "        # Remove dimension of size 1\n",
    "        e = K.squeeze(e, axis=-1)   \n",
    "        # Compute the weights\n",
    "        alpha = K.softmax(e)\n",
    "        # Reshape to tensorFlow format\n",
    "        alpha = K.expand_dims(alpha, axis=-1)\n",
    "        # Compute the context vector\n",
    "        context = x * alpha\n",
    "        context = K.sum(context, axis=1)\n",
    "        return context"
   ]
  },
  {
   "cell_type": "markdown",
   "id": "d43ee8b0",
   "metadata": {},
   "source": [
    "# RNN Network with Attention Layer"
   ]
  },
  {
   "cell_type": "code",
   "execution_count": 13,
   "id": "7dbf7ff7",
   "metadata": {},
   "outputs": [
    {
     "name": "stdout",
     "output_type": "stream",
     "text": [
      "Model: \"model_1\"\n",
      "_________________________________________________________________\n",
      " Layer (type)                Output Shape              Param #   \n",
      "=================================================================\n",
      " input_2 (InputLayer)        [(None, 20, 1)]           0         \n",
      "                                                                 \n",
      " simple_rnn_3 (SimpleRNN)    (None, 20, 2)             8         \n",
      "                                                                 \n",
      " attention_1 (attention)     (None, 2)                 22        \n",
      "                                                                 \n",
      " dense_3 (Dense)             (None, 1)                 3         \n",
      "                                                                 \n",
      "=================================================================\n",
      "Total params: 33 (132.00 Byte)\n",
      "Trainable params: 33 (132.00 Byte)\n",
      "Non-trainable params: 0 (0.00 Byte)\n",
      "_________________________________________________________________\n"
     ]
    }
   ],
   "source": [
    "def create_RNN_with_attention(hidden_units, dense_units, input_shape, activation):\n",
    "    x=Input(shape=input_shape)\n",
    "    RNN_layer = SimpleRNN(hidden_units, return_sequences=True, activation=activation)(x)\n",
    "    attention_layer = attention()(RNN_layer)\n",
    "    outputs=Dense(dense_units, trainable=True, activation=activation)(attention_layer)\n",
    "    model=Model(x,outputs)\n",
    "    model.compile(loss='mse', optimizer='adam')    \n",
    "    return model    \n",
    " \n",
    "model_attention = create_RNN_with_attention(hidden_units=hidden_units, dense_units=1, \n",
    "                                  input_shape=(time_steps,1), activation='tanh')\n",
    "model_attention.summary()"
   ]
  },
  {
   "cell_type": "markdown",
   "id": "a68a982e",
   "metadata": {},
   "source": [
    "# Train and Evaluate the Deep Learning Network with Attention"
   ]
  },
  {
   "cell_type": "code",
   "execution_count": 14,
   "id": "e6959ea8",
   "metadata": {},
   "outputs": [
    {
     "name": "stdout",
     "output_type": "stream",
     "text": [
      "Epoch 1/10\n",
      "826/826 - 8s - loss: 0.0015 - 8s/epoch - 9ms/step\n",
      "Epoch 2/10\n",
      "826/826 - 5s - loss: 0.0015 - 5s/epoch - 6ms/step\n",
      "Epoch 3/10\n",
      "826/826 - 5s - loss: 0.0014 - 5s/epoch - 6ms/step\n",
      "Epoch 4/10\n",
      "826/826 - 5s - loss: 0.0014 - 5s/epoch - 6ms/step\n",
      "Epoch 5/10\n",
      "826/826 - 5s - loss: 0.0014 - 5s/epoch - 6ms/step\n",
      "Epoch 6/10\n",
      "826/826 - 6s - loss: 0.0013 - 6s/epoch - 7ms/step\n",
      "Epoch 7/10\n",
      "826/826 - 5s - loss: 0.0012 - 5s/epoch - 6ms/step\n",
      "Epoch 8/10\n",
      "826/826 - 5s - loss: 0.0012 - 5s/epoch - 6ms/step\n",
      "Epoch 9/10\n",
      "826/826 - 5s - loss: 0.0011 - 5s/epoch - 6ms/step\n",
      "Epoch 10/10\n",
      "826/826 - 5s - loss: 0.0010 - 5s/epoch - 6ms/step\n",
      "26/26 [==============================] - 1s 5ms/step - loss: 9.0768e-04\n",
      "12/12 [==============================] - 0s 6ms/step - loss: 7.3636e-04\n",
      "Train set MSE with attention =  0.0009076849091798067\n",
      "Test set MSE with attention =  0.0007363584591075778\n"
     ]
    }
   ],
   "source": [
    "model_attention.fit(trainX, trainY, epochs=epochs, batch_size=1, verbose=2)\n",
    " \n",
    "# Evalute model\n",
    "train_mse_attn = model_attention.evaluate(trainX, trainY)\n",
    "test_mse_attn = model_attention.evaluate(testX, testY)\n",
    " \n",
    "# Print error\n",
    "print(\"Train set MSE with attention = \", train_mse_attn)\n",
    "print(\"Test set MSE with attention = \", test_mse_attn)"
   ]
  },
  {
   "cell_type": "code",
   "execution_count": null,
   "id": "9f177810",
   "metadata": {},
   "outputs": [],
   "source": []
  }
 ],
 "metadata": {
  "kernelspec": {
   "display_name": "Python 3 (ipykernel)",
   "language": "python",
   "name": "python3"
  },
  "language_info": {
   "codemirror_mode": {
    "name": "ipython",
    "version": 3
   },
   "file_extension": ".py",
   "mimetype": "text/x-python",
   "name": "python",
   "nbconvert_exporter": "python",
   "pygments_lexer": "ipython3",
   "version": "3.10.9"
  }
 },
 "nbformat": 4,
 "nbformat_minor": 5
}
